{
 "cells": [
  {
   "cell_type": "code",
   "execution_count": 12,
   "metadata": {},
   "outputs": [],
   "source": [
    "import urllib.parse         #Url library which will parse the url that will be used for extracting the information from their.\n",
    "import urllib               #Url library.\n",
    "import requests             #request is made for connection with the url.\n",
    "from bs4 import BeautifulSoup     #Used for extracting the information from the website in text form using its predefine functions.\n",
    "import re                   #Used for Regex work.\n",
    "from textblob import TextBlob     #Used for finding the sentiment of the sentences."
   ]
  },
  {
   "cell_type": "code",
   "execution_count": 43,
   "metadata": {},
   "outputs": [
    {
     "name": "stdout",
     "output_type": "stream",
     "text": [
      "Enter the movie name with _ in between name as well as first letter will always be in uppercase:-Batla_House\n"
     ]
    }
   ],
   "source": [
    "movie_name=input('Enter the movie name with _ in between name as well as first letter will always be in uppercase:-')\n",
    "page = requests.get('https://en.wikipedia.org/wiki/'+movie_name)  #Request will made to get comnect with this page(write now we only using TOI website).\n",
    "soup = BeautifulSoup(page.text, 'html.parser')   #It will return the html page to a text form which will looks like html code or helps us to retrive the html file used for that page. \n",
    "artist_name_list = soup.find_all('p')       #Here we will send a parameter which is basically a tag where our needs of data are present and we don't have to do operation on whole.\n",
    "#artist_name_list_items = artist_name_list.find_all('')"
   ]
  },
  {
   "cell_type": "code",
   "execution_count": 31,
   "metadata": {},
   "outputs": [],
   "source": [
    "L=[]\n",
    "def striphtml(data):\n",
    "    p = re.compile(r'<.*?>')\n",
    "    L.append(p.sub('', data))"
   ]
  },
  {
   "cell_type": "code",
   "execution_count": 32,
   "metadata": {},
   "outputs": [],
   "source": [
    "for data in artist_name_list:\n",
    "    striphtml(str(data))"
   ]
  },
  {
   "cell_type": "code",
   "execution_count": 40,
   "metadata": {},
   "outputs": [],
   "source": [
    "import pandas as pd\n",
    "story=pd.DataFrame(L[1:-1])"
   ]
  },
  {
   "cell_type": "code",
   "execution_count": 42,
   "metadata": {},
   "outputs": [
    {
     "data": {
      "text/html": [
       "<div>\n",
       "<style scoped>\n",
       "    .dataframe tbody tr th:only-of-type {\n",
       "        vertical-align: middle;\n",
       "    }\n",
       "\n",
       "    .dataframe tbody tr th {\n",
       "        vertical-align: top;\n",
       "    }\n",
       "\n",
       "    .dataframe thead th {\n",
       "        text-align: right;\n",
       "    }\n",
       "</style>\n",
       "<table border=\"1\" class=\"dataframe\">\n",
       "  <thead>\n",
       "    <tr style=\"text-align: right;\">\n",
       "      <th></th>\n",
       "      <th>0</th>\n",
       "    </tr>\n",
       "  </thead>\n",
       "  <tbody>\n",
       "    <tr>\n",
       "      <th>0</th>\n",
       "      <td>Batla House is a 2019 Indian Hindi-language ac...</td>\n",
       "    </tr>\n",
       "    <tr>\n",
       "      <th>1</th>\n",
       "      <td>Batla House was theatrically released in India...</td>\n",
       "    </tr>\n",
       "    <tr>\n",
       "      <th>2</th>\n",
       "      <td>ACP Sanjay Kumar (John Abraham) informed is th...</td>\n",
       "    </tr>\n",
       "    <tr>\n",
       "      <th>3</th>\n",
       "      <td>Sanjay now starts looking for the 2 terrorists...</td>\n",
       "    </tr>\n",
       "    <tr>\n",
       "      <th>4</th>\n",
       "      <td>The court proceedings begin, where the opposin...</td>\n",
       "    </tr>\n",
       "    <tr>\n",
       "      <th>5</th>\n",
       "      <td>While sections of the media still oppose the r...</td>\n",
       "    </tr>\n",
       "    <tr>\n",
       "      <th>6</th>\n",
       "      <td>In May 2018, Nikkhil Advani announced the film...</td>\n",
       "    </tr>\n",
       "    <tr>\n",
       "      <th>7</th>\n",
       "      <td>The makers of Batla House released the trailer...</td>\n",
       "    </tr>\n",
       "    <tr>\n",
       "      <th>8</th>\n",
       "      <td>The film was released on 15 August 2019 along ...</td>\n",
       "    </tr>\n",
       "    <tr>\n",
       "      <th>9</th>\n",
       "      <td>The songs are composed by Rochak Kohli, Tanish...</td>\n",
       "    </tr>\n",
       "    <tr>\n",
       "      <th>10</th>\n",
       "      <td>The film received mixed reviews from critics.[...</td>\n",
       "    </tr>\n",
       "    <tr>\n",
       "      <th>11</th>\n",
       "      <td>Batla House earned a decent ₹14.5 crore nett i...</td>\n",
       "    </tr>\n",
       "    <tr>\n",
       "      <th>12</th>\n",
       "      <td>As of 5 September 2019[update], with a gross o...</td>\n",
       "    </tr>\n",
       "  </tbody>\n",
       "</table>\n",
       "</div>"
      ],
      "text/plain": [
       "                                                    0\n",
       "0   Batla House is a 2019 Indian Hindi-language ac...\n",
       "1   Batla House was theatrically released in India...\n",
       "2   ACP Sanjay Kumar (John Abraham) informed is th...\n",
       "3   Sanjay now starts looking for the 2 terrorists...\n",
       "4   The court proceedings begin, where the opposin...\n",
       "5   While sections of the media still oppose the r...\n",
       "6   In May 2018, Nikkhil Advani announced the film...\n",
       "7   The makers of Batla House released the trailer...\n",
       "8   The film was released on 15 August 2019 along ...\n",
       "9   The songs are composed by Rochak Kohli, Tanish...\n",
       "10  The film received mixed reviews from critics.[...\n",
       "11  Batla House earned a decent ₹14.5 crore nett i...\n",
       "12  As of 5 September 2019[update], with a gross o..."
      ]
     },
     "execution_count": 42,
     "metadata": {},
     "output_type": "execute_result"
    }
   ],
   "source": [
    "story"
   ]
  },
  {
   "cell_type": "code",
   "execution_count": null,
   "metadata": {},
   "outputs": [],
   "source": []
  }
 ],
 "metadata": {
  "kernelspec": {
   "display_name": "Python 3",
   "language": "python",
   "name": "python3"
  },
  "language_info": {
   "codemirror_mode": {
    "name": "ipython",
    "version": 3
   },
   "file_extension": ".py",
   "mimetype": "text/x-python",
   "name": "python",
   "nbconvert_exporter": "python",
   "pygments_lexer": "ipython3",
   "version": "3.7.0"
  }
 },
 "nbformat": 4,
 "nbformat_minor": 2
}

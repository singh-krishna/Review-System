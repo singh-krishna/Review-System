{
 "cells": [
  {
   "cell_type": "markdown",
   "metadata": {},
   "source": [
    "## Importing the packages that we are going to used for web scraping"
   ]
  },
  {
   "cell_type": "code",
   "execution_count": 1,
   "metadata": {},
   "outputs": [],
   "source": [
    "import urllib.parse         #Url library which will parse the url that will be used for extracting the information from their.\n",
    "import urllib               #Url library.\n",
    "import requests             #request is made for connection with the url.\n",
    "from bs4 import BeautifulSoup     #Used for extracting the information from the website in text form using its predefine functions.\n",
    "import re                   #Used for Regex work.\n",
    "from textblob import TextBlob     #Used for finding the sentiment of the sentences."
   ]
  },
  {
   "cell_type": "markdown",
   "metadata": {},
   "source": [
    "## We are going to take the movie name from the user to provide them review and also we use the request method to ge connection with the website where we want to extract the relative information and after that with the help of beautifulsoup we will get all that information in simple text after implementing some regular expression technique.\n",
    "\n",
    "\n",
    "## Here we are only using \"Time's Of India\"  (TOI) website for extracting the information."
   ]
  },
  {
   "cell_type": "code",
   "execution_count": 11,
   "metadata": {},
   "outputs": [
    {
     "name": "stdout",
     "output_type": "stream",
     "text": [
      "Enter the movie name:-Batla House\n"
     ]
    }
   ],
   "source": [
    "movie_name=input('Enter the movie name:-')\n",
    "if ' ' in movie_name:\n",
    "    x=movie_name.split()\n",
    "    y='-'.join(x)\n",
    "else:\n",
    "    y=movie_name\n",
    "page = requests.get('https://timesofindia.indiatimes.com/entertainment/hindi/movie-reviews/'+y+'/movie-review/70673295.cms')  #Request will made to get comnect with this page(write now we only using TOI website).\n",
    "soup = BeautifulSoup(page.text, 'html.parser')   #It will return the html page to a text form which will looks like html code or helps us to retrive the html file used for that page. \n",
    "artist_name_list = soup.find('arttextxml')       #Here we will send a parameter which is basically a tag where our needs of data are present and we don't have to do operation on whole.\n",
    "#artist_name_list_items = artist_name_list.find_all('')"
   ]
  },
  {
   "cell_type": "markdown",
   "metadata": {},
   "source": [
    "## Here we are using a function i.e striphtml() which work is to remove all the tags and convert it in normal text. For this we are going to used regular expression which help us to remove tags.\n",
    "\n",
    "## Then as per our convenience we do some operation to bring our data in structure format  i.e we seperate the story of movies and their reviews."
   ]
  },
  {
   "cell_type": "code",
   "execution_count": 12,
   "metadata": {},
   "outputs": [],
   "source": [
    "def striphtml(data):\n",
    "    p = re.compile(r'<.*?>')\n",
    "    return(p.sub('', data))"
   ]
  },
  {
   "cell_type": "code",
   "execution_count": 13,
   "metadata": {},
   "outputs": [],
   "source": [
    "for data in artist_name_list:\n",
    "    tweet=striphtml(str(data))"
   ]
  },
  {
   "cell_type": "code",
   "execution_count": 14,
   "metadata": {},
   "outputs": [],
   "source": [
    "tweet1=tweet.split(':')"
   ]
  },
  {
   "cell_type": "code",
   "execution_count": 15,
   "metadata": {},
   "outputs": [],
   "source": [
    "x=tweet1[1].split('  '+movie_name+' Review')"
   ]
  },
  {
   "cell_type": "code",
   "execution_count": 16,
   "metadata": {},
   "outputs": [],
   "source": [
    "x1=tweet\n",
    "y1=x1.split(movie_name+' Story')\n",
    "movie_story=y1[1].split(movie_name+' Review')[0]\n",
    "movie_review=y1[1].split(movie_name+' Review')[1]\n",
    "movie_review=movie_review.split('.')"
   ]
  },
  {
   "cell_type": "markdown",
   "metadata": {},
   "source": [
    "## we are going to create a dictonary where key will be movie name and its value will be the short story summary of that movie and another key will be its review and its value will be the reviews which are present in the list"
   ]
  },
  {
   "cell_type": "code",
   "execution_count": 17,
   "metadata": {},
   "outputs": [],
   "source": [
    "d1={}\n",
    "d1[movie_name+' Story']=movie_story\n",
    "d1[movie_name+' Review']=movie_review"
   ]
  },
  {
   "cell_type": "markdown",
   "metadata": {},
   "source": [
    "## We will finding the sentiment of all the reviews. Write now we will directly used TextBlob for finding the polarity of reviews that are be given in TOI website."
   ]
  },
  {
   "cell_type": "code",
   "execution_count": 18,
   "metadata": {},
   "outputs": [],
   "source": [
    "polarity=[]\n",
    "for i in d1[movie_name+' Review']:\n",
    "    analyis=TextBlob(i)\n",
    "    polarity.append(analyis.sentiment.polarity)"
   ]
  },
  {
   "cell_type": "code",
   "execution_count": null,
   "metadata": {},
   "outputs": [],
   "source": []
  },
  {
   "cell_type": "code",
   "execution_count": null,
   "metadata": {},
   "outputs": [],
   "source": []
  },
  {
   "cell_type": "code",
   "execution_count": 315,
   "metadata": {},
   "outputs": [],
   "source": []
  },
  {
   "cell_type": "code",
   "execution_count": null,
   "metadata": {},
   "outputs": [],
   "source": []
  },
  {
   "cell_type": "code",
   "execution_count": null,
   "metadata": {},
   "outputs": [],
   "source": []
  },
  {
   "cell_type": "code",
   "execution_count": null,
   "metadata": {},
   "outputs": [],
   "source": []
  },
  {
   "cell_type": "code",
   "execution_count": null,
   "metadata": {},
   "outputs": [],
   "source": []
  },
  {
   "cell_type": "code",
   "execution_count": null,
   "metadata": {},
   "outputs": [],
   "source": []
  },
  {
   "cell_type": "code",
   "execution_count": null,
   "metadata": {},
   "outputs": [],
   "source": []
  },
  {
   "cell_type": "code",
   "execution_count": null,
   "metadata": {},
   "outputs": [],
   "source": []
  },
  {
   "cell_type": "code",
   "execution_count": null,
   "metadata": {},
   "outputs": [],
   "source": []
  },
  {
   "cell_type": "code",
   "execution_count": null,
   "metadata": {},
   "outputs": [],
   "source": []
  },
  {
   "cell_type": "code",
   "execution_count": null,
   "metadata": {},
   "outputs": [],
   "source": []
  }
 ],
 "metadata": {
  "kernelspec": {
   "display_name": "Python 3",
   "language": "python",
   "name": "python3"
  },
  "language_info": {
   "codemirror_mode": {
    "name": "ipython",
    "version": 3
   },
   "file_extension": ".py",
   "mimetype": "text/x-python",
   "name": "python",
   "nbconvert_exporter": "python",
   "pygments_lexer": "ipython3",
   "version": "3.7.0"
  }
 },
 "nbformat": 4,
 "nbformat_minor": 2
}

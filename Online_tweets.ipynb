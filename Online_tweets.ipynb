{
 "cells": [
  {
   "cell_type": "markdown",
   "metadata": {},
   "source": [
    "## Packages used"
   ]
  },
  {
   "cell_type": "code",
   "execution_count": 1,
   "metadata": {},
   "outputs": [],
   "source": [
    "import tweepy                                # Used for make connection with twitter API\n",
    "from tweepy.streaming import StreamListener  # Used to hold the streaming data on twitter using StreamListener\n",
    "from tweepy import OAuthHandler              # Used for authentication of your key to get access withou sharing of your password\n",
    "from tweepy import Stream\n",
    "import pandas as pd                          # Used for csv files"
   ]
  },
  {
   "cell_type": "markdown",
   "metadata": {},
   "source": [
    "## Keys provided by twitter API while creating your account for developer "
   ]
  },
  {
   "cell_type": "code",
   "execution_count": 2,
   "metadata": {},
   "outputs": [],
   "source": [
    "ats= \"66RBqAbtU3oFTQv1lJpKply0gbsWH8oe5Ghal2NgA344C\"\n",
    "at= \"876055793505779712-pzjjcZFsD2CDMat2tZUg5dZrEin1ILl\"\n",
    "ck= \"91HpG0wCCwNa8BXMHaKHTk2aB\"\n",
    "cs= \"K6S9qYtLnj5UgSfmwCMihDgLLe5xQ6q9gpqBY90I4ZR1KSwTfn\"\n",
    "auth=OAuthHandler(ck,cs)\n",
    "auth.set_access_token(at,ats)\n",
    "api=tweepy.API(auth)\n"
   ]
  },
  {
   "cell_type": "markdown",
   "metadata": {},
   "source": [
    "## Extracting real time tweets from twitter"
   ]
  },
  {
   "cell_type": "code",
   "execution_count": 9,
   "metadata": {},
   "outputs": [
    {
     "name": "stdout",
     "output_type": "stream",
     "text": [
      "enter search\n",
      "#Batla House @taran_adarsh\n"
     ]
    }
   ],
   "source": [
    "t=input(\"enter search\\n\")\n",
    "tweet1=tweepy.Cursor(api.search,q=t,lang ='en').items(1000)\n",
    "_tweet=[]\n",
    "for tweet in tweet1:\n",
    "    if(tweet.text in _tweet):\n",
    "        continue\n",
    "    else:\n",
    "        _tweet.append(tweet.text)"
   ]
  },
  {
   "cell_type": "code",
   "execution_count": 10,
   "metadata": {},
   "outputs": [],
   "source": [
    "df1=pd.DataFrame(_tweet)\n",
    "df1.to_csv(t+\".csv\",index=False)"
   ]
  },
  {
   "cell_type": "code",
   "execution_count": 13,
   "metadata": {},
   "outputs": [
    {
     "data": {
      "text/plain": [
       "'@taran_adarsh #MissionMangal needs 84 cr weekend , and #batla house need 50 cr weekends to enter a profit zone succ… https://t.co/YlurqC2D4e'"
      ]
     },
     "execution_count": 13,
     "metadata": {},
     "output_type": "execute_result"
    }
   ],
   "source": [
    "_tweet[0]"
   ]
  },
  {
   "cell_type": "code",
   "execution_count": null,
   "metadata": {},
   "outputs": [],
   "source": []
  }
 ],
 "metadata": {
  "kernelspec": {
   "display_name": "Python 3",
   "language": "python",
   "name": "python3"
  },
  "language_info": {
   "codemirror_mode": {
    "name": "ipython",
    "version": 3
   },
   "file_extension": ".py",
   "mimetype": "text/x-python",
   "name": "python",
   "nbconvert_exporter": "python",
   "pygments_lexer": "ipython3",
   "version": "3.7.0"
  }
 },
 "nbformat": 4,
 "nbformat_minor": 2
}
